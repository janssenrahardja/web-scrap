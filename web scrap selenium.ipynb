{
 "cells": [
  {
   "cell_type": "code",
   "execution_count": 1,
   "id": "00709ff8",
   "metadata": {},
   "outputs": [],
   "source": [
    "from selenium import webdriver\n",
    "import bs4 as bs\n",
    "import pandas as pd\n",
    "import time"
   ]
  },
  {
   "cell_type": "code",
   "execution_count": 2,
   "id": "d73ee30c",
   "metadata": {},
   "outputs": [],
   "source": [
    "browser = webdriver.Chrome(\"chromedriver\")"
   ]
  },
  {
   "cell_type": "code",
   "execution_count": 3,
   "id": "a390c710",
   "metadata": {},
   "outputs": [],
   "source": [
    "names=[] #list name of the product\n",
    "stores=[] #list store name of the product\n",
    "prices=[] #list price of the product\n",
    "ratings=[] #list rating of the product\n",
    "images=[] #list image url of the product\n",
    "descriptions=[] #list description of the product\n",
    "\n",
    "productUrls=[] #list product url\n",
    "\n",
    "url = 'https://www.tokopedia.com/p/handphone-tablet/handphone'\n",
    "#xpath\n",
    "div_productList = '//div[@data-testid=\"lstCL2ProductList\"]'\n",
    "btn_next = '//button[@aria-label=\"Laman berikutnya\"]'"
   ]
  },
  {
   "cell_type": "code",
   "execution_count": 4,
   "id": "e2188e8f",
   "metadata": {},
   "outputs": [],
   "source": [
    "def getDataProduct(productLinks, soup):\n",
    "    #filter data products\n",
    "    dataProducts = soup.find('div', attrs={'data-testid':'lstCL2ProductList'})\n",
    "\n",
    "    for data in dataProducts.findAll('a',href=True, attrs={'data-testid':'lnkProductContainer'}):\n",
    "        topads = data.find('img', attrs={'alt':'topads icon'})\n",
    "        if not (topads) :\n",
    "            productUrls.append(data['href'])"
   ]
  },
  {
   "cell_type": "code",
   "execution_count": null,
   "id": "b4c0f245",
   "metadata": {},
   "outputs": [],
   "source": [
    "#open browser, scroll to end, and sleep to load page\n",
    "browser.get(url)\n",
    "browser.execute_script(\"window.scrollTo(0,document.body.scrollHeight)\")\n",
    "time.sleep(5)\n",
    "\n",
    "#search next pagination element\n",
    "btnNext = browser.find_element_by_xpath(btn_next)\n",
    "\n",
    "#get html\n",
    "html = browser.page_source\n",
    "soup = bs.BeautifulSoup(html,'html.parser')\n",
    "\n",
    "#get data from first page\n",
    "getDataProduct(productUrls, soup)\n",
    "#navigate to next page\n",
    "btnNext.click()\n",
    "getDataProduct(productUrls, soup)\n",
    "\n",
    "top100Urls = productUrls[0:100]"
   ]
  },
  {
   "cell_type": "code",
   "execution_count": null,
   "id": "8596d229",
   "metadata": {},
   "outputs": [],
   "source": [
    "#process data from top 100\n",
    "for data in top100Urls:\n",
    "    #open each url\n",
    "    browser.get(data)\n",
    "    time.sleep(5)\n",
    "    \n",
    "    #get html\n",
    "    html = browser.page_source\n",
    "    soup = bs.BeautifulSoup(html,'html.parser')\n",
    "    \n",
    "    #data product\n",
    "    name = soup.find('h1', attrs={'data-testid':'lblPDPDetailProductName'})\n",
    "    store = soup.find('a', attrs={'data-testid':'llbPDPFooterShopName'})\n",
    "    storeName = store.find('h2')\n",
    "    description = soup.find('div', attrs={'data-testid':'lblPDPDescriptionProduk'})\n",
    "    price = soup.find('div', attrs={'data-testid':'lblPDPDetailProductPrice'})\n",
    "    rating = soup.find('span', attrs={'data-testid':'lblPDPDetailProductRatingNumber'})\n",
    "    image = soup.find('img', attrs={'data-testid':'PDPMainImage'})\n",
    "    imageUrl = image['src']\n",
    "    \n",
    "    #insert into list\n",
    "    names.append(name.text)\n",
    "    stores.append(storeName.text)\n",
    "    prices.append(price.text)\n",
    "    ratings.append(rating.text)\n",
    "    images.append(imageUrl)\n",
    "    descriptions.append(description.text)"
   ]
  },
  {
   "cell_type": "code",
   "execution_count": 7,
   "id": "c3d9a1e6",
   "metadata": {},
   "outputs": [],
   "source": [
    "#generate data frame using pandas\n",
    "df = pd.DataFrame({'Name of Product':names,'Description':descriptions,'Image Link':images,'Price':prices,'Rating':ratings,'Name of Store':stores})\n",
    "#export to csv\n",
    "df.to_csv('products.csv', index=False, encoding='utf-8')"
   ]
  }
 ],
 "metadata": {
  "kernelspec": {
   "display_name": "Python 3 (ipykernel)",
   "language": "python",
   "name": "python3"
  },
  "language_info": {
   "codemirror_mode": {
    "name": "ipython",
    "version": 3
   },
   "file_extension": ".py",
   "mimetype": "text/x-python",
   "name": "python",
   "nbconvert_exporter": "python",
   "pygments_lexer": "ipython3",
   "version": "3.8.13"
  }
 },
 "nbformat": 4,
 "nbformat_minor": 5
}
